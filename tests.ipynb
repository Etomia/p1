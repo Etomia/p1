{
 "cells": [
  {
   "cell_type": "code",
   "execution_count": 9,
   "metadata": {},
   "outputs": [
    {
     "name": "stdout",
     "output_type": "stream",
     "text": [
      "æ\n"
     ]
    }
   ],
   "source": [
    "import string\n",
    "\n",
    "def formatV(a):\n",
    "   # ''' Returns the string without non ASCII characters'''\n",
    "    stripped = (c for c in a if (64 < ord(c) < 123) or ord(c) == 32 or ord(c) == 230 or ord(c) == 248 or ord(c) == 229 or ord(c) == 198 or ord(c) == 216 or ord(c) == 230 or ord(c) == 197)\n",
    "    return ''.join(stripped)\n",
    "\n",
    "inputS = input(\"sentence: \\n\")\n",
    "inputS = formatV(inputS)\n",
    "\n",
    "inputWords = inputS.split()\n",
    "\n",
    "print(inputWords[-1])\n",
    "\n",
    "\n"
   ]
  },
  {
   "cell_type": "code",
   "execution_count": 8,
   "metadata": {},
   "outputs": [
    {
     "name": "stdout",
     "output_type": "stream",
     "text": [
      "197\n"
     ]
    }
   ],
   "source": [
    "print(ord(\"Å\"))"
   ]
  }
 ],
 "metadata": {
  "interpreter": {
   "hash": "0a32eff1cf4f4fa6b5c07eaa9db47053007955c78923cfa1ee5251a683ee905a"
  },
  "kernelspec": {
   "display_name": "Python 3.9.7 64-bit",
   "language": "python",
   "name": "python3"
  },
  "language_info": {
   "codemirror_mode": {
    "name": "ipython",
    "version": 3
   },
   "file_extension": ".py",
   "mimetype": "text/x-python",
   "name": "python",
   "nbconvert_exporter": "python",
   "pygments_lexer": "ipython3",
   "version": "3.9.7"
  },
  "orig_nbformat": 4
 },
 "nbformat": 4,
 "nbformat_minor": 2
}
