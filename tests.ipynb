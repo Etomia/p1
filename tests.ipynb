{
 "cells": [
  {
   "cell_type": "code",
   "execution_count": null,
   "metadata": {},
   "outputs": [],
   "source": [
    "import string\n",
    "\n",
    "def formatV(a):\n",
    "   # ''' Returns the string without non ASCII characters'''\n",
    "    stripped = (c for c in a if (64 < ord(c) < 123) or ord(c) == 32 or ord(c) == 230 or ord(c) == 248 or ord(c) == 229 or ord(c) == 198 or ord(c) == 216 or ord(c) == 230 or ord(c) == 197)\n",
    "    return ''.join(stripped)\n",
    "\n",
    "inputS = input(\"sentence: \\n\")\n",
    "inputS = formatV(inputS)\n",
    "\n",
    "inputWords = inputS.split()\n",
    "\n",
    "print(inputWords[-1])\n",
    "\n",
    "\n"
   ]
  },
  {
   "cell_type": "code",
   "execution_count": 10,
   "metadata": {},
   "outputs": [
    {
     "name": "stdout",
     "output_type": "stream",
     "text": [
      "MOO\n"
     ]
    }
   ],
   "source": [
    "def bot1():\n",
    "    return \"MOO\"\n",
    "\n",
    "def bot2():\n",
    "    return \"BOO\"\n",
    "\n",
    "\n",
    "botFunctions = {\n",
    "    1: bot1,\n",
    "    2: bot2,\n",
    "    3: bot3,\n",
    "    4: bot4\n",
    "}\n",
    "\n",
    "print(botFunctions[1]())"
   ]
  },
  {
   "cell_type": "code",
   "execution_count": null,
   "metadata": {},
   "outputs": [],
   "source": [
    "queue = []\n",
    "# Add items to queue\n",
    "queue.append(\"Alice\")\n",
    "queue.append(\"Bob\")\n",
    "queue.append(\"Charlie\")\n",
    "\n",
    "\n",
    "print(str(queue))\n",
    "\n",
    "# Remove items from the queue\n",
    "print(queue.pop(0))\n",
    "print(queue.pop(0))\n",
    "print(queue.pop(0))"
   ]
  },
  {
   "cell_type": "code",
   "execution_count": null,
   "metadata": {},
   "outputs": [],
   "source": [
    "for i in range(4):\n",
    "    print(i)"
   ]
  },
  {
   "cell_type": "code",
   "execution_count": null,
   "metadata": {},
   "outputs": [],
   "source": [
    "d = {}\n",
    "for i in range(5):\n",
    "    d[\"queue{0}\".format(i)] = [i]\n",
    "    print(d[\"queue{0}\".format(i)])\n",
    "\n",
    "print(d)"
   ]
  },
  {
   "cell_type": "code",
   "execution_count": null,
   "metadata": {},
   "outputs": [],
   "source": [
    "import threading\n",
    "import time\n",
    "\n",
    "d = 0\n",
    "def calculateIt():\n",
    "    def methodAdd1():\n",
    "        global d \n",
    "        print(\"method 1 now starting, d is: \" + str(d))\n",
    "        for i in range(100000000):\n",
    "            d += i\n",
    "        \n",
    "    def methodAdd2():\n",
    "        global d\n",
    "        print(\"method 2 now starting, d is: \" + str(d))\n",
    "        for i in range(100000000):\n",
    "            d += i\n",
    "\n",
    "    def methodAdd3():\n",
    "        global d \n",
    "        print(\"method 3 now starting, d is: \" + str(d))\n",
    "        for i in range(100000000):\n",
    "            d += i\n",
    "\n",
    "\n",
    "    thread1 = threading.Thread(target=methodAdd1)\n",
    "    thread2 = threading.Thread(target=methodAdd2)\n",
    "    thread3 = threading.Thread(target=methodAdd3)\n",
    "\n",
    "    thread1.start() \n",
    "    thread2.start() \n",
    "    thread3.start()\n",
    "\n",
    "    thread3.join() \n",
    "    thread2.join() \n",
    "    thread1.join()\n",
    "    print(d)\n",
    "\n",
    "calculateIt()\n"
   ]
  },
  {
   "cell_type": "code",
   "execution_count": null,
   "metadata": {},
   "outputs": [],
   "source": [
    "class Tess:\n",
    "    var1 = 0\n",
    "\n",
    "def returnNull():\n",
    "    return\n",
    "\n",
    "print(returnNull())\n",
    "\n",
    "if returnNull() == None:\n",
    "    print(\"yay\")\n",
    "\n",
    "if returnNull() == \"\":\n",
    "    print(\"yay2\")"
   ]
  }
 ],
 "metadata": {
  "interpreter": {
   "hash": "0a32eff1cf4f4fa6b5c07eaa9db47053007955c78923cfa1ee5251a683ee905a"
  },
  "kernelspec": {
   "display_name": "Python 3.9.7 64-bit",
   "language": "python",
   "name": "python3"
  },
  "language_info": {
   "codemirror_mode": {
    "name": "ipython",
    "version": 3
   },
   "file_extension": ".py",
   "mimetype": "text/x-python",
   "name": "python",
   "nbconvert_exporter": "python",
   "pygments_lexer": "ipython3",
   "version": "3.9.7"
  },
  "orig_nbformat": 4
 },
 "nbformat": 4,
 "nbformat_minor": 2
}
